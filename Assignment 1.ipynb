{
 "cells": [
  {
   "cell_type": "markdown",
   "metadata": {
    "collapsed": true
   },
   "source": [
    "# Assignment 1 - Probability, Linear Algebra, Programming, and Git\n",
    "\n",
    "## Nathan Inkawhich\n",
    "Netid:  nai2"
   ]
  },
  {
   "cell_type": "markdown",
   "metadata": {
    "collapsed": true
   },
   "source": [
    "# Probability and Statistics Theory"
   ]
  },
  {
   "cell_type": "markdown",
   "metadata": {
    "collapsed": true
   },
   "source": [
    "## 1\n",
    "Let $f(x) = \\begin{cases}\n",
    "                0           & x < 0  \\\\\n",
    "                \\alpha x^2  & 0 \\leq x \\leq 2 \\\\\n",
    "                0           & 2 < x\n",
    "            \\end{cases}$\n",
    "            \n",
    "For what value of $\\alpha$ is $f(x)$ a valid probability density function?\n",
    "\n",
    "*Note: for all assignments, write out all equations and math for all assignments using markdown and [LaTeX](https://tobi.oetiker.ch/lshort/lshort.pdf) and show all work*"
   ]
  },
  {
   "cell_type": "markdown",
   "metadata": {},
   "source": [
    "**ANSWER**\n",
    "\n",
    "$\\int_{0}^{2} \\alpha x^{2}dx = 1$\n",
    "\n",
    "$\\alpha \\left[\\frac{x^3}{3}\\Big|_0^2\\right] = 1$\n",
    "\n",
    "$\\frac{8}{3}\\alpha = 1$\n",
    "\n",
    "$\\alpha = \\frac{3}{8}$\n",
    "\n"
   ]
  },
  {
   "cell_type": "markdown",
   "metadata": {},
   "source": [
    "## 2\n",
    "What is the cumulative distribution function (CDF) that corresponds to the following probability distribution function? Please state the value of the CDF for all possible values of $x$.\n",
    "\n",
    "$f(x) = \\begin{cases}\n",
    "    \\frac{1}{3} & 0 < x < 3 \\\\\n",
    "    0           & \\text{otherwise}\n",
    "    \\end{cases}$"
   ]
  },
  {
   "cell_type": "markdown",
   "metadata": {},
   "source": [
    "**ANSWER**\n",
    "\n",
    "$F(x)=\\int_{-\\inf}^{x} f(y)dy$\n",
    "\n",
    "$F(x) = \\begin{cases}\n",
    "    0 & x \\leq 0 \\\\\n",
    "    \\frac{1}{3}x & 0 < x < 3\\\\\n",
    "    1 & x \\geq 3 \\\\\n",
    "    \\end{cases}$\n"
   ]
  },
  {
   "cell_type": "markdown",
   "metadata": {},
   "source": [
    "## 3\n",
    "For the probability distribution function for the random variable $X$,\n",
    "\n",
    "$f(x) = \\begin{cases}\n",
    "    \\frac{1}{3} & 0 < x < 3 \\\\\n",
    "    0           & \\text{otherwise}\n",
    "    \\end{cases}$\n",
    "    \n",
    "what is the (a) expected value and (b) variance of $X$. *Show all work*."
   ]
  },
  {
   "cell_type": "markdown",
   "metadata": {},
   "source": [
    "**ANSWER**\n",
    "\n",
    "(a) Expected value:\n",
    "\n",
    "$E(X) = \\int_{0}^{3}xf(x)dx =\\int_{0}^{3}\\frac{1}{3}xdx = \\left[\\frac{x^2}{6}\\Big|_0^3\\right] = \\frac{3}{2} $\n",
    "\n",
    "\n",
    "(b) Variance:\n",
    "\n",
    "$Var(X) = E(X^2)-(E(X))^2$\n",
    "\n",
    "$E(X^2) = \\int_{0}^{3} x^2f(x)dx = \\left[\\frac{x^3}{9}\\Big|_0^3\\right] = 3$\n",
    "\n",
    "$E(X)^2 = 1.5^2 = 2.25$\n",
    "\n",
    "$Var(X) = 3-2.25 = 0.75$"
   ]
  },
  {
   "cell_type": "markdown",
   "metadata": {},
   "source": [
    "## 4\n",
    "Consider the following table of data that provides the values of a discrete data vector $\\mathbf{x}$ of samples from the random variable $X$, where each entry in $\\mathbf{x}$ is given as $x_i$.\n",
    "\n",
    "*Table 1. Dataset N=5 observations*\n",
    "\n",
    "|        | $x_0$ | $x_1$ | $x_2$ | $x_3$ | $x_4$ |\n",
    "|------  |-------|-------|-------|-------|-------|\n",
    "|$\\textbf{x}$| 2     | 3     | 10    | -1    | -1    |\n",
    "\n",
    "What is the (a) mean, (b) variance, and the  of the data? \n",
    "\n",
    "*Show all work. Your answer should include the definition of mean, median, and variance in the context of discrete data.*"
   ]
  },
  {
   "cell_type": "markdown",
   "metadata": {},
   "source": [
    "**ANSWER**\n",
    "\n",
    "(a) Mean\n",
    "\n",
    "$\\mu=\\frac{1}{N}\\sum_{i=1}^{N}x_i$\n",
    "\n",
    "$\\mu = \\frac{2+3+10+-1+-1}{5} = \\frac{13}{5} = 2.6$\n",
    "\n",
    "\n",
    "(b) Variance\n",
    "\n",
    "$\\sigma^2 = \\frac{1}{N}\\sum_{i=1}^N(x_i-\\mu)^2$\n",
    "\n",
    "$\\sigma^2 = \\frac{(2-2.6)^2 + (3-2.6)^2 + (10-2.6)^2 + (-1-2.6)^2 + (-1-2.6)^2}{5} = 16.24$\n"
   ]
  },
  {
   "cell_type": "markdown",
   "metadata": {},
   "source": [
    "## 5\n",
    "Review of counting from probability theory. \n",
    "\n",
    "(a) How many different 7-place licence plates are possible if the first 3 places only contain letters and te last 4 only contain numbers?\n",
    "\n",
    "(b) How many different batting orders are possible for a baseball team with 9 players?\n",
    "\n",
    "(c) How many batting orders of 5 players are possible for a team with 9 players total?\n",
    "\n",
    "(d) Let's assume this class has 26 students and we want to form project teams. How many unique teams of 3 are possible?\n",
    "\n",
    "*Hint: For each problem, determine if order matters, and if it should be calculated with or without replacement.*"
   ]
  },
  {
   "cell_type": "markdown",
   "metadata": {},
   "source": [
    "**ANSWER**\n",
    "\n",
    "(a)\n",
    "\n",
    "Order does not matter; replacement\n",
    "\n",
    "$ans = (26)(26)(26)(10)(10)(10)(10) = 175760000$\n",
    "\n",
    "(b)\n",
    "\n",
    "Order matters; no replacement = Permutation\n",
    "\n",
    "$n = 9; k = 9$\n",
    "\n",
    "$ans = P(n,k) = \\frac{n!}{(n-k)!} = \\frac{9!}{0!} = 9! = 362880$\n",
    "\n",
    "\n",
    "(c)\n",
    "\n",
    "Order matters; no replacement = Permutation\n",
    "\n",
    "$n = 9; k = 5$\n",
    "\n",
    "$ans = P(n,k) = \\frac{n!}{(n-k)!} = \\frac{9!}{(9-5)!} = \\frac{9!}{4!} = 15120$\n",
    "\n",
    "(d)\n",
    "\n",
    "Order does not matter; no replacement = Combination\n",
    "\n",
    "$n = 26; k = 3$\n",
    "\n",
    "$ans = C(n,k) = \\frac{P(n,k)}{k!} = \\frac{26!}{(26-3)!(3!)} = 2600$\n"
   ]
  },
  {
   "cell_type": "markdown",
   "metadata": {},
   "source": [
    "# Linear Algebra"
   ]
  },
  {
   "cell_type": "markdown",
   "metadata": {},
   "source": [
    "## 6\n",
    "**Matrix manipulations and multiplication**. Machine learning involves working with many matrices, so this exercise will provide you with the opportunity to practice those skills.\n",
    "\n",
    "Let\n",
    "$\\mathbf{A} =  \\begin{bmatrix}\n",
    "1 & 2 & 3 \\\\\n",
    "2 & 4 & 5 \\\\\n",
    "3 & 5 & 6 \n",
    "\\end{bmatrix}$, $\\mathbf{b} =  \\begin{bmatrix}\n",
    "-1  \\\\\n",
    "3  \\\\\n",
    "8  \n",
    "\\end{bmatrix}$, $\\mathbf{c} =  \\begin{bmatrix}\n",
    "4  \\\\\n",
    "-3  \\\\\n",
    "6  \n",
    "\\end{bmatrix}$, and $\\mathbf{I} =  \\begin{bmatrix}\n",
    "1 & 0 & 0 \\\\\n",
    "0 & 1 & 0 \\\\\n",
    "0 & 0 & 1 \n",
    "\\end{bmatrix}$\n",
    "\n",
    "Compute the following or indicate that it cannot be computed:\n",
    "\n",
    "1. $\\mathbf{A}\\mathbf{A}$\n",
    "\n",
    "2. $\\mathbf{A}\\mathbf{A}^T$\n",
    "\n",
    "3. $\\mathbf{A}\\mathbf{b}$\n",
    "\n",
    "4. $\\mathbf{A}\\mathbf{b}^T$\n",
    "\n",
    "5. $\\mathbf{b}\\mathbf{A}$\n",
    "\n",
    "6. $\\mathbf{b}^T\\mathbf{A}$\n",
    "\n",
    "7. $\\mathbf{b}\\mathbf{b}$\n",
    "\n",
    "8. $\\mathbf{b}^T\\mathbf{b}$\n",
    "\n",
    "9. $\\mathbf{b}\\mathbf{b}^T$\n",
    "\n",
    "10. $\\mathbf{b} + \\mathbf{c}^T$\n",
    "\n",
    "11. $\\mathbf{b}^T\\mathbf{b}^T$\n",
    "\n",
    "12. $\\mathbf{A}^{-1}\\mathbf{b}$\n",
    "\n",
    "13. $\\mathbf{A}\\circ\\mathbf{A}$\n",
    "\n",
    "14. $\\mathbf{b}\\circ\\mathbf{c}$\n",
    "\n",
    "*Note: The element-wise (or Hadamard) product is the product of each element in one matrix with the corresponding element in another matrix, and is represented by the symbol \"$\\circ$\".*"
   ]
  },
  {
   "cell_type": "markdown",
   "metadata": {},
   "source": [
    "**ANSWER**\n",
    "\n",
    "$\\mathbf{1.}$ \n",
    "\n",
    "$\\mathbf{A}\\mathbf{A} = \n",
    "\\begin{bmatrix}\n",
    "   (1)(1)+(2)(2)+(3)(3) & (1)(2)+(2)(4)+(3)(5) & (1)(3)+(2)(5)+(3)(6) \n",
    "\\\\ (2)(1)+(4)(2)+(5)(3) & (2)(2)+(4)(4)+(5)(5) & (2)(3)+(4)(5)+(5)(6)  \n",
    "\\\\ (3)(1)+(5)(2)+(6)(3) & (3)(2)+(5)(4)+(6)(5) & (3)(3)+(5)(5)+(6)(6) \\end{bmatrix} \\\\ =\n",
    "\\begin{bmatrix}14 & 25 & 31 \\\\ 25 & 45 & 56 \\\\ 31 & 56 & 70 \\end{bmatrix}$\n",
    "\n",
    "\n",
    "$\\mathbf{2.}$ \n",
    "\n",
    "$\\mathbf{A}^T = \\mathbf{A}$\n",
    "\n",
    "$\\mathbf{A}\\mathbf{A}^T = \\begin{bmatrix}14 & 25 & 31 \\\\ 25 & 45 & 56 \\\\ 31 & 56 & 70 \\end{bmatrix}$\n",
    "\n",
    "\n",
    "$\\mathbf{3.}$ \n",
    "\n",
    "$\\mathbf{A}\\mathbf{b} = \n",
    "\\begin{bmatrix}\n",
    "   (1)(-1)+(2)(3)+(3)(8) \n",
    "\\\\ (2)(-1)+(4)(3)+(5)(8)  \n",
    "\\\\ (3)(-1)+(5)(3)+(6)(8) \n",
    "\\end{bmatrix} =\n",
    "\\begin{bmatrix}29 \\\\ 50 \\\\ 60 \\end{bmatrix}$\n",
    "\n",
    "$\\mathbf{4.}$\n",
    "\n",
    "NOT POSSIBLE\n",
    "\n",
    "$\\mathbf{5.}$\n",
    "\n",
    "NOT POSSIBLE\n",
    "\n",
    "$\\mathbf{6.}$\n",
    "\n",
    "$\\mathbf{b}^T = \\begin{bmatrix} -1 & 3 & 8 \\end{bmatrix}$\n",
    "\n",
    "$\\mathbf{b}^T\\mathbf{A} = \n",
    "\\begin{bmatrix}\n",
    "   (1)(-1)+(2)(3)+(3)(8) & (2)(-1)+(4)(3)+(5)(8) & (3)(-1)+(5)(3)+(6)(8) \n",
    "\\end{bmatrix} =\n",
    "\\begin{bmatrix}29 & 50 & 60 \\end{bmatrix}$\n",
    "\n",
    "$\\mathbf{7.}$\n",
    "\n",
    "NOT POSSIBLE\n",
    "\n",
    "$\\mathbf{8.}$\n",
    "\n",
    "$\\mathbf{b}^T\\mathbf{b} = \n",
    "\\begin{bmatrix}(-1)(-1)+(3)(3)+(8)(8)\\end{bmatrix} =\n",
    "\\begin{bmatrix} 74 \\end{bmatrix}$\n",
    "\n",
    "$\\mathbf{9.}$\n",
    "\n",
    "$\\mathbf{b}\\mathbf{b}^T = \n",
    "\\begin{bmatrix}\n",
    "   (-1)(-1) & (-1)(3) & (-1)(8) \n",
    "\\\\ (3)(-1) & (3)(3) & (3)(8)  \n",
    "\\\\ (8)(-1) & (8)(3) & (8)(8) \n",
    "\\end{bmatrix} =\n",
    "\\begin{bmatrix}1 & -3 & -8 \\\\ -3 & 9 & 24 \\\\ -8 & 24 & 64 \\end{bmatrix}$\n",
    "\n",
    "$\\mathbf{10.}$\n",
    "\n",
    "NOT POSSIBLE\n",
    "\n",
    "$\\mathbf{11.}$\n",
    "\n",
    "NOT POSSIBLE\n",
    "\n",
    "$\\mathbf{12.}$\n",
    "\n",
    "$\\mathbf{A}^{-1} =  \\begin{bmatrix}\n",
    "1 & -3 & 2 \\\\\n",
    "-3 & 3 & -1 \\\\\n",
    "2 & -1 & 0 \n",
    "\\end{bmatrix}$\n",
    "\n",
    "$\\mathbf{A}^{-1}\\mathbf{b} = \n",
    "\\begin{bmatrix}\n",
    "   (1)(-1)+(-3)(3)+(2)(8) \n",
    "\\\\ (-3)(-1)+(3)(3)+(-1)(8)  \n",
    "\\\\ (2)(-1)+(-1)(3)+(0)(8) \n",
    "\\end{bmatrix} =\n",
    "\\begin{bmatrix} 6 \\\\ 4 \\\\ -5 \\end{bmatrix}$\n",
    "\n",
    "$\\mathbf{13.}$\n",
    "\n",
    "$\\mathbf{A}\\circ\\mathbf{A} = \n",
    "\\begin{bmatrix}\n",
    "   (1)(1) & (2)(2) & (3)(3) \n",
    "\\\\ (2)(2) & (4)(4) & (5)(5)  \n",
    "\\\\ (3)(3) & (5)(5) & (6)(6) \n",
    "\\end{bmatrix} =\n",
    "\\begin{bmatrix} 1 & 4 & 9 \\\\ 4 & 16 & 25 \\\\ 9 & 25 & 36 \\end{bmatrix}$\n",
    "\n",
    "$\\mathbf{14.}$\n",
    "\n",
    "$\\mathbf{b}\\circ\\mathbf{c} = \n",
    "\\begin{bmatrix}\n",
    "   (-1)(4) \n",
    "\\\\ (3)(-3)  \n",
    "\\\\ (8)(6) \n",
    "\\end{bmatrix} =\n",
    "\\begin{bmatrix} -4 \\\\ -9 \\\\ 48 \\end{bmatrix}$"
   ]
  },
  {
   "cell_type": "markdown",
   "metadata": {},
   "source": [
    "## 6\n",
    "**Eigenvectors and eigenvalues**. Eigenvectors and eigenvalues are useful for some machine learning algorithms, but the concepts take time to solidly grasp. For an intuitive review of these concepts, explore this [interactive website at Setosa.io](http://setosa.io/ev/eigenvectors-and-eigenvalues/). Also, the series of linear algebra videos by Grant Sanderson of 3Brown1Blue are excellent and can be viewed on youtube [here](https://www.youtube.com/playlist?list=PLZHQObOWTQDPD3MizzM2xVFitgF8hE_ab).\n",
    "\n",
    "1. Calculate the eigenvalues and corresponding eigenvectors of matrix $\\mathbf{A}$ above, from the last question.\n",
    "2. Choose one of the eigenvector/eigenvalue pairs, $\\mathbf{v}$ and $\\lambda$, and show that $\\mathbf{A} \\mathbf{v} = \\lambda \\mathbf{v}$. Also show that this relationship extends to higher orders: $\\mathbf{A} \\mathbf{A} \\mathbf{v} = \\lambda^2 \\mathbf{v}$\n",
    "3. Show that the eigenvectors are orthogonal to one another (e.g. their inner product is zero). This is true for real, symmetric matrices."
   ]
  },
  {
   "cell_type": "markdown",
   "metadata": {},
   "source": [
    "**ANSWER**\n",
    "\n",
    "**1.**\n",
    "\n",
    "$\\lambda_1=-0.5157$\n",
    "\n",
    "$E_{\\lambda_1}=\\begin{bmatrix} 0.7370 \\\\ 0.3280 \\\\ -0.5910 \\end{bmatrix}$\n",
    "\n",
    "$\\lambda_2=0.1709$\n",
    "\n",
    "$E_{\\lambda_2}=\\begin{bmatrix} 0.5910 \\\\ -0.7370 \\\\ 0.3280 \\end{bmatrix}$\n",
    "\n",
    "$\\lambda_3=11.345$\n",
    "\n",
    "$E_{\\lambda_3}=\\begin{bmatrix} 0.3280 \\\\ 0.5910 \\\\ 0.7370 \\end{bmatrix}$\n",
    "\n",
    "**2.**\n",
    "\n",
    "\n",
    "**3.**\n",
    "\n",
    "$E_{\\lambda_1}\\cdot E_{\\lambda_2} = (.737)(.591)+(.328)(-.737)+(-.591)(.328) = 0$\n",
    "\n",
    "$E_{\\lambda_1}\\cdot E_{\\lambda_3} = (.737)(.328)+(.328)(.591)+(-.591)(.737) = 0$\n",
    "\n",
    "$E_{\\lambda_2}\\cdot E_{\\lambda_3} = (.328)(.591)+(.591)(-.737)+(.737)(.328) = 0$\n"
   ]
  },
  {
   "cell_type": "markdown",
   "metadata": {},
   "source": [
    "# Numerical Programming"
   ]
  },
  {
   "cell_type": "markdown",
   "metadata": {},
   "source": [
    "## 7\n",
    "Speed comparison between vectorized and non-vectorized code. Begin by creating an array of 10 million random numbers using the numpy random.randn module. Compute the sum of the squares first in a for loop, then using Numpy's `dot` module. Time how long it takes to compute each and report the results and report the output. How many times faster is the vectorized code than the for loop approach?\n",
    "\n",
    "*Note: all code should be well commented, properly formatted, and your answers should be output using the `print()` function as follows (where the # represents your answers, to a reasonable precision):\n",
    "\n",
    "`Time [sec] (non-vectorized): ######`\n",
    "\n",
    "`Time [sec] (vectorized):     ######`\n",
    "\n",
    "`The vectorized code is ##### times faster than the vectorized code`"
   ]
  },
  {
   "cell_type": "markdown",
   "metadata": {},
   "source": [
    "**ANSWER**"
   ]
  },
  {
   "cell_type": "code",
   "execution_count": 2,
   "metadata": {
    "collapsed": false
   },
   "outputs": [
    {
     "name": "stdout",
     "output_type": "stream",
     "text": [
      "non_vectorized\n",
      "  sum_nv =  9998580.04185\n",
      "  time (seconds) =  5.74571204185\n",
      "vectorized\n",
      "  sum_v =  9998580.04185\n",
      "  time (seconds) =  0.00588917732239\n",
      "speedup = old/new =  975.639164406\n"
     ]
    }
   ],
   "source": [
    "import numpy as np\n",
    "import time\n",
    "\n",
    "# Generate the random samples\n",
    "samples = np.random.randn(10000000)\n",
    "\n",
    "# Compute the sum of squares the non-vectorized way (using a for loop)\n",
    "t1 = time.time()\n",
    "sum_nv = 0.0\n",
    "for i in range(len(samples)):\n",
    "    sum_nv += samples[i]*samples[i]\n",
    "t2 = time.time() \n",
    "\n",
    "# Compute the sum of squares the vectorized way (using numpy)\n",
    "sum_v = 0.0\n",
    "t3 = time.time()\n",
    "sum_v = np.dot(samples,samples)\n",
    "t4 = time.time()\n",
    "\n",
    "# Print the results\n",
    "print \"non_vectorized\"\n",
    "print \"  sum_nv = \",sum_nv\n",
    "print \"  time (seconds) = \",t2-t1\n",
    "print \"vectorized\"\n",
    "print \"  sum_v = \",sum_v\n",
    "print \"  time (seconds) = \",t4-t3\n",
    "print \"speedup = old/new = \", (t2-t1)/(t4-t3)"
   ]
  },
  {
   "cell_type": "markdown",
   "metadata": {},
   "source": [
    "## 8\n",
    "One popular Agile development framework is Scrum (a paradigm recommended for data science projects). It emphasizes the continual evolution of code for projects, becoming progressively better, but starting with a quickly developed minimum viable product. This often means that code written early on is not optimized, and that's a good thing - it's best to get it to work first before optimizing. Imagine that you wrote the following code during a sprint towards getting an end-to-end system working. Vectorize the following code and show the difference in speed between the current implementation and a vectorized version.\n",
    "\n",
    "The function below computes the function $f(x,y) = x^2 - 2 y^2$ and determines whether this quantity is above or below a given threshold, `thresh=0`. This is done for $x,y \\in \\{-4,4\\}$, with 2,000 samples in each direction.\n",
    "\n",
    "(a) Vectorize this code and demonstrate (as in the last exercise) the speed increase through vectorization and (b) plot the resulting data - both the function $f(x,y)$ and the thresholded output - using [`imshow`](https://matplotlib.org/api/_as_gen/matplotlib.pyplot.imshow.html?highlight=matplotlib%20pyplot%20imshow#matplotlib.pyplot.imshow) from `matplotlib`.\n",
    "\n",
    "*Hint: look at the `numpy` [`meshgrid`](https://docs.scipy.org/doc/numpy-1.13.0/reference/generated/numpy.meshgrid.html) documentation*"
   ]
  },
  {
   "cell_type": "code",
   "execution_count": 13,
   "metadata": {
    "collapsed": false
   },
   "outputs": [
    {
     "name": "stdout",
     "output_type": "stream",
     "text": [
      "time non-vectorized (seconds):  4.95360302925\n",
      "time vectorized (seconds):  0.0234789848328\n",
      "speedup = old/new =  210.980290014\n"
     ]
    },
    {
     "data": {
      "text/plain": [
       "Text(0.5,1,u'value = 1 if f(x)>0 else 0')"
      ]
     },
     "execution_count": 13,
     "metadata": {},
     "output_type": "execute_result"
    },
    {
     "data": {
      "image/png": "[encoded data removed]",
      "text/plain": [
       "<matplotlib.figure.Figure at 0x146d70d90>"
      ]
     },
     "metadata": {},
     "output_type": "display_data"
    }
   ],
   "source": [
    "%matplotlib inline\n",
    "import numpy as np\n",
    "import time\n",
    "import matplotlib\n",
    "import matplotlib.pyplot as plt\n",
    "\n",
    "# Initialize variables for this exerise\n",
    "n = 2000\n",
    "nx,ny = (n,n)\n",
    "x = np.linspace(-4,4,nx, endpoint=True)\n",
    "y = np.linspace(-4,4,ny, endpoint=True)\n",
    "\n",
    "# Nonvectorized implementation\n",
    "f = np.zeros(shape=(len(x),len(y)))\n",
    "t1 = time.time()\n",
    "for i in range(len(y)):\n",
    "    for j in range(len(x)):\n",
    "        f[i][j] = (x[j]*x[j]) - (2*y[i]*y[i])\n",
    "t2 = time.time() \n",
    "\n",
    "# Vectorized implementation\n",
    "xv, yv = np.meshgrid(x, y)\n",
    "t3 = time.time()\n",
    "z = (xv**2) - (2*(yv**2))\n",
    "t4 = time.time()\n",
    "\n",
    "# Apply threshold\n",
    "thresh=0\n",
    "thresh_mat = np.where(z<thresh,0,1)\n",
    "\n",
    "# Print the time for each and the speed increase\n",
    "print \"time non-vectorized (seconds): \",t2-t1\n",
    "print \"time vectorized (seconds): \",t4-t3\n",
    "print \"speedup = old/new = \", (t2-t1)/(t4-t3)\n",
    "\n",
    "# Plot the result\n",
    "fig = plt.figure()\n",
    "fig.subplots_adjust(wspace=.5)\n",
    "\n",
    "plt.subplot(1,2,1)\n",
    "plt.imshow(z, interpolation='none', extent=[-4,4,-4,4])\n",
    "plt.colorbar(orientation='horizontal')\n",
    "plt.xlabel('x')\n",
    "plt.ylabel('y')\n",
    "plt.title('f(x) = x^2 - 2*y^2')\n",
    "\n",
    "plt.subplot(1,2,2)\n",
    "plt.imshow(thresh_mat, cmap=plt.cm.gray, interpolation='none', extent=[-4,4,-4,4])\n",
    "plt.colorbar(orientation='horizontal')\n",
    "plt.xlabel('x')\n",
    "plt.ylabel('y')\n",
    "plt.title('value = 1 if f(x)>0 else 0')"
   ]
  },
  {
   "cell_type": "markdown",
   "metadata": {},
   "source": [
    "## 9\n",
    "This exercise will walk through some basic numerical programming exercises.\n",
    "1. Synthesize $n=10^4$ normally distributed data points with mean $\\mu=2$ and a standard deviation of $\\sigma=1$. Call these observations from a random variable $X$, and call the vector of observations that you generate, $\\textbf{x}$.\n",
    "2. Calculate the mean and standard deviation of $\\textbf{x}$ to validate (1) and provide the result to a precision of four significant figures.\n",
    "3. Plot a histogram of the data in $\\textbf{x}$ with 30 bins\n",
    "4. What is the 90th percentile of $\\textbf{x}$? The 90th percentile is the value below which 90% of observations can be found.\n",
    "5. What is the 99th percentile of $\\textbf{x}$?\n",
    "6. Now synthesize $n=10^4$ normally distributed data points with mean $\\mu=0$ and a standard deviation of $\\sigma=3$. Call these observations from a random variable $Y$, and call the vector of observations that you generate, $\\textbf{y}$.\n",
    "7. Plot the histogram of the data in $\\textbf{y}$ on a (new) plot with the histogram of $\\textbf{x}$, so that both histograms can be seen and compared.\n",
    "8. Using the observations from $\\textbf{x}$ and $\\textbf{y}$, estimate $E[XY]$"
   ]
  },
  {
   "cell_type": "markdown",
   "metadata": {},
   "source": [
    "**ANSWER**"
   ]
  },
  {
   "cell_type": "code",
   "execution_count": 25,
   "metadata": {
    "collapsed": false
   },
   "outputs": [
    {
     "name": "stdout",
     "output_type": "stream",
     "text": [
      "mean x: 2.019\n",
      "std x: 0.991\n",
      "sanity check with numpy...\n",
      "npy mean: 2.01924214362\n",
      "npy stddev: 0.991102838185\n"
     ]
    },
    {
     "data": {
      "image/png": "[encoded data removed]",
      "text/plain": [
       "<matplotlib.figure.Figure at 0x1212eb390>"
      ]
     },
     "metadata": {},
     "output_type": "display_data"
    },
    {
     "name": "stdout",
     "output_type": "stream",
     "text": [
      "90th percentile:  3.30105998969\n",
      "99th percentile:  4.33571009457\n"
     ]
    },
    {
     "data": {
      "image/png": "[encoded data removed]",
      "text/plain": [
       "<matplotlib.figure.Figure at 0x15643aed0>"
      ]
     },
     "metadata": {},
     "output_type": "display_data"
    },
    {
     "name": "stdout",
     "output_type": "stream",
     "text": [
      "Covariance(x,y) = E[XY] - E[X]E[Y]\n",
      "E[XY] = Covariance(x,y) + E[X]E[Y]\n",
      "mu_x =  2.01924214362\n",
      "mu_y =  0.0538113451787\n",
      "cov(X,Y) =  -0.024492452873\n",
      "E[XY] =  0.0841656831165\n"
     ]
    }
   ],
   "source": [
    "%matplotlib inline\n",
    "import numpy as np\n",
    "import time\n",
    "import math\n",
    "import matplotlib.pyplot as plt\n",
    "\n",
    "#######################################\n",
    "# 1\n",
    "# number of samples\n",
    "n = 10**4\n",
    "\n",
    "# create x\n",
    "mu_x = 2.0\n",
    "sig_x = 1.0\n",
    "x = sig_x*np.random.randn(n) + mu_x\n",
    "\n",
    "#######################################\n",
    "# 2\n",
    "# calculate mean of x\n",
    "mean_x = np.sum(x)/len(x)\n",
    "\n",
    "# calculate standard deviation of x\n",
    "var_x = np.sum((x-mean_x)**2)/n\n",
    "std_x =  math.sqrt(var_x)\n",
    "\n",
    "print \"mean x: %.3f\" % mean_x\n",
    "print \"std x: %.3f\" % std_x\n",
    "print \"sanity check with numpy...\"\n",
    "print \"npy mean:\",np.mean(x)\n",
    "print \"npy stddev:\",np.std(x)\n",
    "\n",
    "#######################################\n",
    "# 3\n",
    "# Plot the distribution of X as a histogram with 30 bins\n",
    "plt.hist(x,30,normed=1)\n",
    "plt.xlabel('x')\n",
    "plt.ylabel('Probability')\n",
    "plt.title('Histogram of X: $\\mu=2.0$, $\\sigma=1.0$')\n",
    "plt.show()\n",
    "\n",
    "#######################################\n",
    "# 4\n",
    "# Find the 90th percentile\n",
    "print \"90th percentile: \",np.percentile(x, 90)\n",
    " \n",
    "#######################################\n",
    "# 5\n",
    "# Find the 99th percentile\n",
    "print \"99th percentile: \",np.percentile(x, 99)\n",
    "\n",
    "#######################################\n",
    "# 6\n",
    "# create y\n",
    "mu_y = 0.0\n",
    "sig_y = 3.0\n",
    "y = sig_y*np.random.randn(n) + mu_y\n",
    "\n",
    "#######################################\n",
    "# 7\n",
    "# Plot the histograms of X and Y together\n",
    "plt.hist(x,30,normed=1)\n",
    "plt.hist(y,30,normed=1)\n",
    "plt.xlabel('value')\n",
    "plt.ylabel('Probability')\n",
    "plt.title('Histogram of X and Y: $\\mu_x=2.0$, $\\sigma_x=1.0$, $\\mu_y=0.0$, $\\sigma_y=3.0$')\n",
    "plt.legend(['X','Y'])\n",
    "plt.show()\n",
    "\n",
    "#######################################\n",
    "# 8\n",
    "# Method:\n",
    "# Covariance(x,y) = E[XY] - E[X]E[Y]\n",
    "# E[XY] = Covariance(X,Y) + E[X]E[Y]\n",
    "# and we know...\n",
    "# E[X] = mean_x\n",
    "# E[Y] = mean_y\n",
    "mean_y = np.sum(y)/len(y)\n",
    "cov_xy = np.cov(x,y)[0][1] # Covariance(X,Y)\n",
    "e_xy = cov_xy + mean_x*mean_y\n",
    "\n",
    "print \"Covariance(x,y) = E[XY] - E[X]E[Y]\"\n",
    "print \"E[XY] = Covariance(x,y) + E[X]E[Y]\"\n",
    "print \"mu_x = \",mean_x\n",
    "print \"mu_y = \",mean_y\n",
    "print \"cov(X,Y) = \",cov_xy\n",
    "print \"E[XY] = \",e_xy\n"
   ]
  },
  {
   "cell_type": "markdown",
   "metadata": {},
   "source": [
    "## 10\n",
    "Estimate the integral of the function $f(x)$ on the interval $0\\leq x < 2.5$ assuming we only know the following points from $f$:\n",
    "\n",
    "*Table 1. Dataset containing n=5 observations*\n",
    "\n",
    "| $x_i$ | 0.0 | 0.5 | 1.0 | 1.5 | 2.0 |\n",
    "|-|-|-|-|-|-|\n",
    "| $y_i$ | 6 | 7 | 8 | 4 | 1 |\n"
   ]
  },
  {
   "cell_type": "code",
   "execution_count": 10,
   "metadata": {
    "collapsed": false
   },
   "outputs": [
    {
     "name": "stdout",
     "output_type": "stream",
     "text": [
      "Area:  13.0\n"
     ]
    }
   ],
   "source": [
    "# Answer\n",
    "x = [0.0, 0.5, 1.0, 1.5, 2.0]\n",
    "y = [6, 7, 8, 4, 1]\n",
    "\n",
    "# Estimate area under curve (y = f(x))\n",
    "# Method: Left-point Riemann Sum\n",
    "area = 0.0\n",
    "for i in range(len(x)):\n",
    "\tarea += (0.5*y[i])\n",
    "\n",
    "print \"Area: \",area"
   ]
  },
  {
   "cell_type": "markdown",
   "metadata": {
    "collapsed": true
   },
   "source": [
    "# Version Control via Git"
   ]
  },
  {
   "cell_type": "markdown",
   "metadata": {},
   "source": [
    "## 11\n",
    "Complete the [Atlassian Git tutorial](https://www.atlassian.com/git/tutorials/what-is-version-control), specifically the following sections. Try each concept that's presented. For this tutorial, instead of using BitBucket, use Github. Create a github account here if you don't already have one: https://github.com/\n",
    "1. [What is version control](https://www.atlassian.com/git/tutorials/what-is-version-control)\n",
    "2. [What is Git](https://www.atlassian.com/git/tutorials/what-is-git)\n",
    "3. [Install Git](https://www.atlassian.com/git/tutorials/install-git)\n",
    "4. [Setting up a repository](https://www.atlassian.com/git/tutorials/install-git)\n",
    "5. [Saving changes](https://www.atlassian.com/git/tutorials/saving-changes)\n",
    "6. [Inspecting a repository](https://www.atlassian.com/git/tutorials/inspecting-a-repository)\n",
    "7. [Undoing changes](https://www.atlassian.com/git/tutorials/undoing-changes)\n",
    "8. [Rewriting history](https://www.atlassian.com/git/tutorials/rewriting-history)\n",
    "9. [Syncing](https://www.atlassian.com/git/tutorials/syncing)\n",
    "10. [Making a pull request](https://www.atlassian.com/git/tutorials/making-a-pull-request)\n",
    "11. [Using branches](https://www.atlassian.com/git/tutorials/using-branches)\n",
    "12. [Comparing workflows](https://www.atlassian.com/git/tutorials/comparing-workflows)\n",
    "\n",
    "For your answer, affirm that you either completed the tutorial or have previous experience with all of the concepts above. Do this by typing your name below and selecting the situation that applies from the two options in brackets."
   ]
  },
  {
   "cell_type": "markdown",
   "metadata": {},
   "source": [
    "**ANSWER**\n",
    "\n",
    "*I, Nathan Inkawhich, affirm that I have completed the above tutorial*"
   ]
  },
  {
   "cell_type": "markdown",
   "metadata": {},
   "source": [
    "## 12\n",
    "Using Github to create a static HTML website:\n",
    "1. Create a branch in your `machine-learning-course` repo called \"gh-pages\" and checkout that branch (this will provide an example of how to create a simple static website using [Github Pages](https://pages.github.com/))\n",
    "2. Create a file called \"index.html\" with the contents \"Hello World\" and add, commit, and push it to that branch.\n",
    "3. Submit the following: (a) a link to your github repository and (b) a link to your new \"Hello World\" website. The latter should be at the address https://[USERNAME].github.io/ECE590-assignment0 (where [USERNAME] is your github username)."
   ]
  },
  {
   "cell_type": "markdown",
   "metadata": {},
   "source": [
    "**ANSWER**\n",
    "\n"
   ]
  },
  {
   "cell_type": "markdown",
   "metadata": {
    "collapsed": true
   },
   "source": [
    "# Exploratory Data Analysis\n",
    "## 13\n",
    "Here you'll bring together some of the individual skills that you demonstrated above and create a Jupyter notebook based blog post on data analysis.\n",
    "\n",
    "1. Find a dataset that interests you and relates to a question or problem that you find intriguing\n",
    "2. Using a Jupyter notebook, describe the dataset, the source of the data, and the reason the dataset was of interest.\n",
    "3. Check the data and see if they need to be cleaned: are there missing values? Are there clearly erroneous values? Do two tables need to be merged together? Clean the data so it can be visualized.\n",
    "3. Plot the data, demonstrating interesting features that you discover. Are there any relationships between variables that were surprising or patterns that emerged? Please exercise creativity and curiosity in your plots.\n",
    "4. What insights are you able to take away from exploring the data? Is there a reason why analyzing the dataset you chose is particularly interesting or important? Summarize this as if your target audience was the readership of a major news organization - boil down your findings in a way that is accessible, but still accurate.\n",
    "5. Create a public repository on your github account titled \"machine-learning-course\". In it, create a readme file that contains the heading \"ECE590: Introductory Machine Learning for Data Science\". Add, commit, and push that Jupyter notebook to the master branch. Provide the link to the that post here."
   ]
  },
  {
   "cell_type": "markdown",
   "metadata": {},
   "source": [
    "**ANSWER**\n",
    "\n"
   ]
  }
 ],
 "metadata": {
  "anaconda-cloud": {},
  "kernelspec": {
   "display_name": "Python [default]",
   "language": "python",
   "name": "python2"
  },
  "language_info": {
   "codemirror_mode": {
    "name": "ipython",
    "version": 2
   },
   "file_extension": ".py",
   "mimetype": "text/x-python",
   "name": "python",
   "nbconvert_exporter": "python",
   "pygments_lexer": "ipython2",
   "version": "2.7.12"
  }
 },
 "nbformat": 4,
 "nbformat_minor": 2
}
